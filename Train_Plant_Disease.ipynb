{
 "cells": [
  {
   "cell_type": "code",
   "execution_count": null,
   "id": "f4983e96-adf9-4b72-b556-3c575226cad0",
   "metadata": {},
   "outputs": [],
   "source": [
    "import os\n",
    "os.environ[\"KMP_DUPLICATE_LIB_OK\"]=\"TRUE\""
   ]
  },
  {
   "cell_type": "markdown",
   "id": "2a73f308-87a4-4547-b1b0-e041a76f91eb",
   "metadata": {},
   "source": [
    "## Import Libraries"
   ]
  },
  {
   "cell_type": "code",
   "execution_count": 1,
   "id": "31cbaca8-5a9c-4022-8a36-70d9a9afdd3b",
   "metadata": {},
   "outputs": [],
   "source": [
    "import tensorflow as tf\n",
    "import matplotlib.pyplot as plt\n",
    "import pandas as pd\n",
    "import seaborn as sns"
   ]
  },
  {
   "cell_type": "markdown",
   "id": "fdabcc8b-3ea7-43e0-a65e-a5449b6866b5",
   "metadata": {},
   "source": [
    "## Data Preprocessing"
   ]
  },
  {
   "cell_type": "markdown",
   "id": "a11884e2-2895-494e-a173-4b43d958d731",
   "metadata": {},
   "source": [
    "### Training Image Preprocessing"
   ]
  },
  {
   "cell_type": "code",
   "execution_count": 2,
   "id": "22a7008a-815b-498f-9933-853af6d2daf7",
   "metadata": {},
   "outputs": [
    {
     "name": "stdout",
     "output_type": "stream",
     "text": [
      "Found 70295 files belonging to 38 classes.\n"
     ]
    }
   ],
   "source": [
    "training_set = tf.keras.utils.image_dataset_from_directory(\n",
    "    \"train\",\n",
    "    labels=\"inferred\",\n",
    "    label_mode=\"categorical\",\n",
    "    class_names=None,\n",
    "    color_mode=\"rgb\",\n",
    "    batch_size=32,\n",
    "    image_size=(128, 128),\n",
    "    shuffle=True,\n",
    "    seed=None,\n",
    "    validation_split=None,\n",
    "    subset=None,\n",
    "    interpolation=\"bilinear\",\n",
    "    follow_links=False,\n",
    "    crop_to_aspect_ratio=False,\n",
    ")"
   ]
  },
  {
   "cell_type": "markdown",
   "id": "d1774275-2c54-4ba1-be17-86a70475b3c4",
   "metadata": {},
   "source": [
    "### Validation Image Preprocessing"
   ]
  },
  {
   "cell_type": "code",
   "execution_count": 3,
   "id": "1a1ff3a3-7a20-4a9a-afaa-86968f2a0b7e",
   "metadata": {},
   "outputs": [
    {
     "name": "stdout",
     "output_type": "stream",
     "text": [
      "Found 17572 files belonging to 38 classes.\n"
     ]
    }
   ],
   "source": [
    "validation_set = tf.keras.utils.image_dataset_from_directory(\n",
    "    \"valid\",\n",
    "    labels=\"inferred\",\n",
    "    label_mode=\"categorical\",\n",
    "    class_names=None,\n",
    "    color_mode=\"rgb\",\n",
    "    batch_size=32,\n",
    "    image_size=(128, 128),\n",
    "    shuffle=True,\n",
    "    seed=None,\n",
    "    validation_split=None,\n",
    "    subset=None,\n",
    "    interpolation=\"bilinear\",\n",
    "    follow_links=False,\n",
    "    crop_to_aspect_ratio=False,\n",
    ")"
   ]
  },
  {
   "cell_type": "code",
   "execution_count": 4,
   "id": "a01d720d-cb8c-431e-b7ed-8955741bf93b",
   "metadata": {},
   "outputs": [
    {
     "data": {
      "text/plain": [
       "<BatchDataset element_spec=(TensorSpec(shape=(None, 128, 128, 3), dtype=tf.float32, name=None), TensorSpec(shape=(None, 38), dtype=tf.float32, name=None))>"
      ]
     },
     "execution_count": 4,
     "metadata": {},
     "output_type": "execute_result"
    }
   ],
   "source": [
    "training_set"
   ]
  },
  {
   "cell_type": "code",
   "execution_count": 5,
   "id": "18f29172-82fe-4d2f-9de9-af8bfdf3b814",
   "metadata": {},
   "outputs": [
    {
     "name": "stdout",
     "output_type": "stream",
     "text": [
      "tf.Tensor(\n",
      "[[[[147.5  145.5  146.5 ]\n",
      "   [148.25 146.25 147.25]\n",
      "   [148.   146.   147.  ]\n",
      "   ...\n",
      "   [156.5  152.5  149.5 ]\n",
      "   [156.5  152.5  149.5 ]\n",
      "   [154.5  150.5  147.5 ]]\n",
      "\n",
      "  [[153.75 151.75 152.75]\n",
      "   [156.75 154.75 155.75]\n",
      "   [149.   147.   148.  ]\n",
      "   ...\n",
      "   [156.5  152.5  149.5 ]\n",
      "   [156.5  152.5  149.5 ]\n",
      "   [155.75 151.75 148.75]]\n",
      "\n",
      "  [[146.25 144.25 145.25]\n",
      "   [149.25 147.25 148.25]\n",
      "   [145.25 143.25 144.25]\n",
      "   ...\n",
      "   [156.5  152.5  149.5 ]\n",
      "   [156.5  152.5  149.5 ]\n",
      "   [157.25 153.25 150.25]]\n",
      "\n",
      "  ...\n",
      "\n",
      "  [[ 65.25  62.25  57.25]\n",
      "   [ 66.5   63.5   58.5 ]\n",
      "   [ 66.5   63.5   58.5 ]\n",
      "   ...\n",
      "   [109.   105.   102.  ]\n",
      "   [110.   106.   103.  ]\n",
      "   [112.5  108.5  105.5 ]]\n",
      "\n",
      "  [[ 64.75  61.75  56.75]\n",
      "   [ 65.75  62.75  57.75]\n",
      "   [ 65.75  62.75  57.75]\n",
      "   ...\n",
      "   [108.25 104.25 101.25]\n",
      "   [109.   105.   102.  ]\n",
      "   [106.75 102.75  99.75]]\n",
      "\n",
      "  [[ 64.    61.    56.  ]\n",
      "   [ 65.    62.    57.  ]\n",
      "   [ 65.    62.    57.  ]\n",
      "   ...\n",
      "   [103.5   99.5   96.5 ]\n",
      "   [101.5   97.5   94.5 ]\n",
      "   [ 98.5   94.5   91.5 ]]]\n",
      "\n",
      "\n",
      " [[[176.25 172.25 173.25]\n",
      "   [177.25 173.25 174.25]\n",
      "   [176.5  172.5  173.5 ]\n",
      "   ...\n",
      "   [159.5  153.5  157.5 ]\n",
      "   [157.75 151.75 155.75]\n",
      "   [159.75 153.75 157.75]]\n",
      "\n",
      "  [[174.5  170.5  171.5 ]\n",
      "   [174.25 170.25 171.25]\n",
      "   [173.25 169.25 170.25]\n",
      "   ...\n",
      "   [149.5  143.5  147.5 ]\n",
      "   [160.   154.   158.  ]\n",
      "   [156.5  150.5  154.5 ]]\n",
      "\n",
      "  [[180.   176.   177.  ]\n",
      "   [172.   168.   169.  ]\n",
      "   [170.   166.   167.  ]\n",
      "   ...\n",
      "   [151.   145.   149.  ]\n",
      "   [152.5  146.5  150.5 ]\n",
      "   [155.25 149.25 153.25]]\n",
      "\n",
      "  ...\n",
      "\n",
      "  [[149.   140.   143.  ]\n",
      "   [144.75 135.75 138.75]\n",
      "   [149.5  140.5  143.5 ]\n",
      "   ...\n",
      "   [116.25 107.25 110.25]\n",
      "   [119.75 110.75 113.75]\n",
      "   [120.5  111.5  114.5 ]]\n",
      "\n",
      "  [[133.   124.   127.  ]\n",
      "   [146.75 137.75 140.75]\n",
      "   [144.25 135.25 138.25]\n",
      "   ...\n",
      "   [122.   113.   116.  ]\n",
      "   [113.   104.   107.  ]\n",
      "   [130.5  121.5  124.5 ]]\n",
      "\n",
      "  [[137.25 128.25 131.25]\n",
      "   [146.   137.   140.  ]\n",
      "   [133.75 124.75 127.75]\n",
      "   ...\n",
      "   [117.75 108.75 111.75]\n",
      "   [124.75 115.75 118.75]\n",
      "   [115.25 106.25 109.25]]]\n",
      "\n",
      "\n",
      " [[[150.   144.   148.  ]\n",
      "   [146.5  140.5  144.5 ]\n",
      "   [148.5  142.5  146.5 ]\n",
      "   ...\n",
      "   [ 82.    69.    63.  ]\n",
      "   [ 97.5   81.5   81.5 ]\n",
      "   [103.75  84.75  88.75]]\n",
      "\n",
      "  [[150.75 144.75 148.75]\n",
      "   [149.   143.   147.  ]\n",
      "   [146.5  140.5  144.5 ]\n",
      "   ...\n",
      "   [ 87.75  74.75  68.25]\n",
      "   [ 95.75  79.75  79.75]\n",
      "   [112.5   93.5   97.5 ]]\n",
      "\n",
      "  [[150.5  144.5  148.5 ]\n",
      "   [146.5  140.5  144.5 ]\n",
      "   [150.25 144.25 148.25]\n",
      "   ...\n",
      "   [ 89.5   76.5   69.5 ]\n",
      "   [106.    90.    90.  ]\n",
      "   [111.5   95.5   98.5 ]]\n",
      "\n",
      "  ...\n",
      "\n",
      "  [[169.   161.75 169.25]\n",
      "   [170.   166.75 162.75]\n",
      "   [172.25 176.   157.25]\n",
      "   ...\n",
      "   [ 22.    19.    12.  ]\n",
      "   [ 25.75  22.75  15.75]\n",
      "   [ 24.    24.    16.  ]]\n",
      "\n",
      "  [[173.25 162.75 169.5 ]\n",
      "   [171.75 164.   161.5 ]\n",
      "   [165.   163.75 147.5 ]\n",
      "   ...\n",
      "   [ 21.    18.    11.  ]\n",
      "   [ 23.75  20.75  13.75]\n",
      "   [ 21.5   21.5   13.5 ]]\n",
      "\n",
      "  [[175.25 162.75 170.5 ]\n",
      "   [172.5  163.5  161.25]\n",
      "   [160.   155.   140.5 ]\n",
      "   ...\n",
      "   [ 22.    19.    12.  ]\n",
      "   [ 23.75  20.75  13.75]\n",
      "   [ 21.5   21.5   13.5 ]]]\n",
      "\n",
      "\n",
      " ...\n",
      "\n",
      "\n",
      " [[[198.   186.   186.  ]\n",
      "   [193.5  181.5  181.5 ]\n",
      "   [195.   183.   183.  ]\n",
      "   ...\n",
      "   [164.5  185.25 114.5 ]\n",
      "   [154.25 174.5  106.25]\n",
      "   [164.   181.5  116.5 ]]\n",
      "\n",
      "  [[201.25 189.25 189.25]\n",
      "   [200.   188.   188.  ]\n",
      "   [202.   190.   190.  ]\n",
      "   ...\n",
      "   [157.75 173.75 105.75]\n",
      "   [182.75 196.75 133.  ]\n",
      "   [186.25 197.75 140.25]]\n",
      "\n",
      "  [[199.5  187.5  187.5 ]\n",
      "   [204.5  192.5  192.5 ]\n",
      "   [201.5  189.5  189.5 ]\n",
      "   ...\n",
      "   [188.   197.5  139.5 ]\n",
      "   [186.   190.   142.75]\n",
      "   [191.75 190.75 151.75]]\n",
      "\n",
      "  ...\n",
      "\n",
      "  [[211.5  200.5  198.5 ]\n",
      "   [212.75 201.75 199.75]\n",
      "   [213.25 202.25 200.25]\n",
      "   ...\n",
      "   [229.75 218.75 216.75]\n",
      "   [221.75 210.75 208.75]\n",
      "   [221.5  210.5  208.5 ]]\n",
      "\n",
      "  [[212.75 201.75 199.75]\n",
      "   [218.25 207.25 205.25]\n",
      "   [211.75 200.75 198.75]\n",
      "   ...\n",
      "   [217.75 206.75 204.75]\n",
      "   [228.75 217.75 215.75]\n",
      "   [208.75 197.75 195.75]]\n",
      "\n",
      "  [[212.75 201.75 197.75]\n",
      "   [217.75 206.75 202.75]\n",
      "   [215.25 204.25 202.25]\n",
      "   ...\n",
      "   [213.75 202.75 200.75]\n",
      "   [217.25 206.25 204.25]\n",
      "   [208.75 197.75 195.75]]]\n",
      "\n",
      "\n",
      " [[[119.   134.   177.  ]\n",
      "   [117.5  132.5  175.5 ]\n",
      "   [117.5  132.5  175.5 ]\n",
      "   ...\n",
      "   [ 76.5   81.5  119.5 ]\n",
      "   [ 76.25  81.25 119.25]\n",
      "   [ 68.5   74.5  110.5 ]]\n",
      "\n",
      "  [[119.5  134.5  177.5 ]\n",
      "   [118.5  133.5  176.5 ]\n",
      "   [119.   134.   177.  ]\n",
      "   ...\n",
      "   [ 70.25  75.25 113.25]\n",
      "   [ 68.5   73.5  111.5 ]\n",
      "   [ 68.75  74.75 110.75]]\n",
      "\n",
      "  [[116.5  131.5  174.5 ]\n",
      "   [116.5  131.5  174.5 ]\n",
      "   [117.5  132.5  175.5 ]\n",
      "   ...\n",
      "   [ 67.25  72.25 110.25]\n",
      "   [ 67.5   72.5  110.5 ]\n",
      "   [ 73.    79.   115.  ]]\n",
      "\n",
      "  ...\n",
      "\n",
      "  [[144.5  149.5  189.5 ]\n",
      "   [144.   149.   189.  ]\n",
      "   [148.25 153.25 193.25]\n",
      "   ...\n",
      "   [ 66.75  70.   109.25]\n",
      "   [ 70.75  72.75 107.75]\n",
      "   [ 66.25  68.    98.5 ]]\n",
      "\n",
      "  [[145.75 150.75 190.75]\n",
      "   [145.   150.   190.  ]\n",
      "   [142.75 147.75 187.75]\n",
      "   ...\n",
      "   [ 68.25  71.5  103.75]\n",
      "   [ 73.75  72.75 104.  ]\n",
      "   [ 73.5   69.5  101.  ]]\n",
      "\n",
      "  [[142.25 147.25 187.25]\n",
      "   [143.75 148.75 188.75]\n",
      "   [140.75 145.75 185.75]\n",
      "   ...\n",
      "   [ 71.25  75.   100.75]\n",
      "   [ 66.5   64.5   93.25]\n",
      "   [ 71.5   64.    95.  ]]]\n",
      "\n",
      "\n",
      " [[[127.25 116.25 112.25]\n",
      "   [123.25 112.25 108.25]\n",
      "   [129.   118.   114.  ]\n",
      "   ...\n",
      "   [158.75 150.75 147.75]\n",
      "   [155.5  147.5  144.5 ]\n",
      "   [155.75 147.75 144.75]]\n",
      "\n",
      "  [[126.   115.   111.  ]\n",
      "   [133.5  122.5  118.5 ]\n",
      "   [127.   116.   112.  ]\n",
      "   ...\n",
      "   [158.75 150.75 147.75]\n",
      "   [159.   151.   148.  ]\n",
      "   [158.   150.   147.  ]]\n",
      "\n",
      "  [[125.   114.   110.  ]\n",
      "   [124.25 113.25 109.25]\n",
      "   [126.75 115.75 111.75]\n",
      "   ...\n",
      "   [156.5  148.5  145.5 ]\n",
      "   [156.25 148.25 145.25]\n",
      "   [156.25 148.25 145.25]]\n",
      "\n",
      "  ...\n",
      "\n",
      "  [[134.   126.   123.  ]\n",
      "   [131.5  123.5  120.5 ]\n",
      "   [133.25 125.25 122.25]\n",
      "   ...\n",
      "   [157.75 152.75 149.75]\n",
      "   [151.75 146.75 143.75]\n",
      "   [160.   155.   152.  ]]\n",
      "\n",
      "  [[128.   120.   117.  ]\n",
      "   [131.   123.   120.  ]\n",
      "   [133.5  125.5  122.5 ]\n",
      "   ...\n",
      "   [148.75 143.75 140.75]\n",
      "   [133.5  128.5  125.5 ]\n",
      "   [149.   144.   141.  ]]\n",
      "\n",
      "  [[121.25 113.25 110.25]\n",
      "   [133.   125.   122.  ]\n",
      "   [127.   119.   116.  ]\n",
      "   ...\n",
      "   [127.5  122.5  119.5 ]\n",
      "   [113.   108.   105.  ]\n",
      "   [100.75  95.75  92.75]]]], shape=(32, 128, 128, 3), dtype=float32) (32, 128, 128, 3)\n",
      "tf.Tensor(\n",
      "[[0. 0. 0. ... 0. 0. 0.]\n",
      " [0. 0. 0. ... 0. 0. 0.]\n",
      " [0. 0. 0. ... 0. 0. 0.]\n",
      " ...\n",
      " [0. 0. 0. ... 0. 0. 0.]\n",
      " [0. 0. 0. ... 0. 0. 0.]\n",
      " [0. 0. 0. ... 0. 0. 0.]], shape=(32, 38), dtype=float32) (32, 38)\n"
     ]
    }
   ],
   "source": [
    "for x, y in training_set:\n",
    "    print(x, x.shape)\n",
    "    print(y, y.shape)\n",
    "    break"
   ]
  },
  {
   "cell_type": "markdown",
   "id": "47a31969-292e-4de7-aa22-87bccfb6052a",
   "metadata": {},
   "source": [
    "### To avoid overshooting\n",
    "1. Choose small learing rate. Default is 0.001, we are taking 0.0001\n",
    "2. There may be a chance of under fitting, so increase the number of neurons.\n",
    "3. Add more convolution layers to extract more features."
   ]
  },
  {
   "cell_type": "markdown",
   "id": "957e1bdd-70ce-4b91-b18e-cfc57321badc",
   "metadata": {},
   "source": [
    "## Building Model"
   ]
  },
  {
   "cell_type": "code",
   "execution_count": 6,
   "id": "0a4b0bc8-0626-4946-ab3e-3392b35504bc",
   "metadata": {},
   "outputs": [],
   "source": [
    "from tensorflow.keras.layers import Dense,Conv2D,MaxPool2D,Flatten,Dropout\n",
    "from tensorflow.keras.models import Sequential"
   ]
  },
  {
   "cell_type": "code",
   "execution_count": 7,
   "id": "1f63cf09-648c-48d5-ab02-fda3525832dc",
   "metadata": {},
   "outputs": [],
   "source": [
    "model = Sequential()"
   ]
  },
  {
   "cell_type": "markdown",
   "id": "6632bca8-b1cf-4c55-8ecd-93b381d68ddf",
   "metadata": {},
   "source": [
    "## Convolutional Layer"
   ]
  },
  {
   "cell_type": "code",
   "execution_count": 8,
   "id": "4ea763aa-2aa7-43fa-ba31-09cb88799e1c",
   "metadata": {},
   "outputs": [],
   "source": [
    "model.add(Conv2D(filters=32,kernel_size=3,padding=\"same\",activation=\"relu\",input_shape=[128,128,3]))\n",
    "model.add(Conv2D(filters=32,kernel_size=3,activation=\"relu\"))\n",
    "model.add(MaxPool2D(pool_size=2,strides=2))"
   ]
  },
  {
   "cell_type": "code",
   "execution_count": 9,
   "id": "1a9d9d8f-7967-4fc0-aaf2-6e7b02531e0d",
   "metadata": {},
   "outputs": [],
   "source": [
    "model.add(Conv2D(filters=64,kernel_size=3,padding=\"same\",activation=\"relu\"))\n",
    "model.add(Conv2D(filters=64,kernel_size=3,activation=\"relu\"))\n",
    "model.add(MaxPool2D(pool_size=2,strides=2))"
   ]
  },
  {
   "cell_type": "code",
   "execution_count": 10,
   "id": "823f6fde-0b41-4ffd-af39-7d196b3c4a14",
   "metadata": {},
   "outputs": [],
   "source": [
    "model.add(Conv2D(filters=128,kernel_size=3,padding=\"same\",activation=\"relu\"))\n",
    "model.add(Conv2D(filters=128,kernel_size=3,activation=\"relu\"))\n",
    "model.add(MaxPool2D(pool_size=2,strides=2))"
   ]
  },
  {
   "cell_type": "code",
   "execution_count": 11,
   "id": "6e6d7f00-c0fa-4e22-8b95-4a057fd0f905",
   "metadata": {},
   "outputs": [],
   "source": [
    "model.add(Conv2D(filters=256,kernel_size=3,padding=\"same\",activation=\"relu\"))\n",
    "model.add(Conv2D(filters=256,kernel_size=3,activation=\"relu\"))\n",
    "model.add(MaxPool2D(pool_size=2,strides=2))"
   ]
  },
  {
   "cell_type": "code",
   "execution_count": 12,
   "id": "15676949-c892-49a2-983c-409ff9cb0b8b",
   "metadata": {},
   "outputs": [],
   "source": [
    "model.add(Conv2D(filters=512,kernel_size=3,padding=\"same\",activation=\"relu\"))\n",
    "model.add(Conv2D(filters=512,kernel_size=3,activation=\"relu\"))\n",
    "model.add(MaxPool2D(pool_size=2,strides=2))"
   ]
  },
  {
   "cell_type": "code",
   "execution_count": 13,
   "id": "476a00bb-ae2e-4e60-b183-f238c30dec65",
   "metadata": {},
   "outputs": [],
   "source": [
    "model.add(Dropout(0.25)) # To avoid overfitting"
   ]
  },
  {
   "cell_type": "code",
   "execution_count": 14,
   "id": "96508083-12a4-407e-a848-c38c258d3a7b",
   "metadata": {},
   "outputs": [],
   "source": [
    "model.add(Flatten())"
   ]
  },
  {
   "cell_type": "code",
   "execution_count": 15,
   "id": "919985c5-ed77-48a3-94ef-a6db540496ff",
   "metadata": {},
   "outputs": [],
   "source": [
    "model.add(Dense(units=1500,activation=\"relu\"))"
   ]
  },
  {
   "cell_type": "code",
   "execution_count": 16,
   "id": "0c840c72-9ddf-4006-8817-599e6925ad82",
   "metadata": {},
   "outputs": [],
   "source": [
    "model.add(Dropout(0.4))"
   ]
  },
  {
   "cell_type": "code",
   "execution_count": 17,
   "id": "4ecbfc26-908c-454b-a996-918243f2e452",
   "metadata": {},
   "outputs": [],
   "source": [
    "#Output Layer\n",
    "model.add(Dense(units=38,activation=\"softmax\"))"
   ]
  },
  {
   "cell_type": "markdown",
   "id": "a737e8a5-c6a8-470e-b61c-a1ef9f163e2b",
   "metadata": {},
   "source": [
    "## Compiling Model"
   ]
  },
  {
   "cell_type": "code",
   "execution_count": 18,
   "id": "3de530a7-4166-452d-aa7b-272bddad019f",
   "metadata": {
    "scrolled": true
   },
   "outputs": [],
   "source": [
    "model.compile(optimizer=tf.keras.optimizers.Adam(\n",
    "    learning_rate=0.0001),loss=\"categorical_crossentropy\",metrics=['accuracy'])"
   ]
  },
  {
   "cell_type": "code",
   "execution_count": 19,
   "id": "b4c46092-db83-49cd-9d4d-565c716a70b2",
   "metadata": {},
   "outputs": [
    {
     "name": "stdout",
     "output_type": "stream",
     "text": [
      "Model: \"sequential\"\n",
      "_________________________________________________________________\n",
      " Layer (type)                Output Shape              Param #   \n",
      "=================================================================\n",
      " conv2d (Conv2D)             (None, 128, 128, 32)      896       \n",
      "                                                                 \n",
      " conv2d_1 (Conv2D)           (None, 126, 126, 32)      9248      \n",
      "                                                                 \n",
      " max_pooling2d (MaxPooling2D  (None, 63, 63, 32)       0         \n",
      " )                                                               \n",
      "                                                                 \n",
      " conv2d_2 (Conv2D)           (None, 63, 63, 64)        18496     \n",
      "                                                                 \n",
      " conv2d_3 (Conv2D)           (None, 61, 61, 64)        36928     \n",
      "                                                                 \n",
      " max_pooling2d_1 (MaxPooling  (None, 30, 30, 64)       0         \n",
      " 2D)                                                             \n",
      "                                                                 \n",
      " conv2d_4 (Conv2D)           (None, 30, 30, 128)       73856     \n",
      "                                                                 \n",
      " conv2d_5 (Conv2D)           (None, 28, 28, 128)       147584    \n",
      "                                                                 \n",
      " max_pooling2d_2 (MaxPooling  (None, 14, 14, 128)      0         \n",
      " 2D)                                                             \n",
      "                                                                 \n",
      " conv2d_6 (Conv2D)           (None, 14, 14, 256)       295168    \n",
      "                                                                 \n",
      " conv2d_7 (Conv2D)           (None, 12, 12, 256)       590080    \n",
      "                                                                 \n",
      " max_pooling2d_3 (MaxPooling  (None, 6, 6, 256)        0         \n",
      " 2D)                                                             \n",
      "                                                                 \n",
      " conv2d_8 (Conv2D)           (None, 6, 6, 512)         1180160   \n",
      "                                                                 \n",
      " conv2d_9 (Conv2D)           (None, 4, 4, 512)         2359808   \n",
      "                                                                 \n",
      " max_pooling2d_4 (MaxPooling  (None, 2, 2, 512)        0         \n",
      " 2D)                                                             \n",
      "                                                                 \n",
      " dropout (Dropout)           (None, 2, 2, 512)         0         \n",
      "                                                                 \n",
      " flatten (Flatten)           (None, 2048)              0         \n",
      "                                                                 \n",
      " dense (Dense)               (None, 1500)              3073500   \n",
      "                                                                 \n",
      " dropout_1 (Dropout)         (None, 1500)              0         \n",
      "                                                                 \n",
      " dense_1 (Dense)             (None, 38)                57038     \n",
      "                                                                 \n",
      "=================================================================\n",
      "Total params: 7,842,762\n",
      "Trainable params: 7,842,762\n",
      "Non-trainable params: 0\n",
      "_________________________________________________________________\n"
     ]
    }
   ],
   "source": [
    "model.summary()"
   ]
  },
  {
   "cell_type": "markdown",
   "id": "c96a0757-0c5b-4dd3-b6f8-1380cc255ab6",
   "metadata": {},
   "source": [
    "## Model Training"
   ]
  },
  {
   "cell_type": "code",
   "execution_count": 20,
   "id": "4eb32b85-2966-4e91-ad53-b1b8b856cf0b",
   "metadata": {},
   "outputs": [
    {
     "name": "stdout",
     "output_type": "stream",
     "text": [
      "Epoch 1/10\n",
      "2197/2197 [==============================] - 1784s 811ms/step - loss: 1.3781 - accuracy: 0.5954 - val_loss: 0.4970 - val_accuracy: 0.8422\n",
      "Epoch 2/10\n",
      "2197/2197 [==============================] - 1749s 796ms/step - loss: 0.4597 - accuracy: 0.8554 - val_loss: 0.3510 - val_accuracy: 0.8866\n",
      "Epoch 3/10\n",
      "2197/2197 [==============================] - 1757s 799ms/step - loss: 0.2757 - accuracy: 0.9118 - val_loss: 0.2133 - val_accuracy: 0.9309\n",
      "Epoch 4/10\n",
      "2197/2197 [==============================] - 1763s 803ms/step - loss: 0.1914 - accuracy: 0.9374 - val_loss: 0.1726 - val_accuracy: 0.9452\n",
      "Epoch 5/10\n",
      "2197/2197 [==============================] - 1755s 799ms/step - loss: 0.1367 - accuracy: 0.9549 - val_loss: 0.1467 - val_accuracy: 0.9520\n",
      "Epoch 6/10\n",
      "2197/2197 [==============================] - 1747s 795ms/step - loss: 0.1064 - accuracy: 0.9654 - val_loss: 0.1724 - val_accuracy: 0.9440\n",
      "Epoch 7/10\n",
      "2197/2197 [==============================] - 1751s 797ms/step - loss: 0.0943 - accuracy: 0.9690 - val_loss: 0.1354 - val_accuracy: 0.9584\n",
      "Epoch 8/10\n",
      "2197/2197 [==============================] - 1743s 793ms/step - loss: 0.0731 - accuracy: 0.9762 - val_loss: 0.1243 - val_accuracy: 0.9637\n",
      "Epoch 9/10\n",
      "2197/2197 [==============================] - 1746s 795ms/step - loss: 0.0634 - accuracy: 0.9797 - val_loss: 0.1597 - val_accuracy: 0.9545\n",
      "Epoch 10/10\n",
      "2197/2197 [==============================] - 1744s 794ms/step - loss: 0.0579 - accuracy: 0.9813 - val_loss: 0.1070 - val_accuracy: 0.9682\n"
     ]
    }
   ],
   "source": [
    "training_history = model.fit(x=training_set,validation_data=validation_set,epochs=10)"
   ]
  },
  {
   "cell_type": "code",
   "execution_count": 23,
   "id": "740f93e4-8b13-44b8-8d33-ad7007bbe923",
   "metadata": {},
   "outputs": [],
   "source": [
    "#storing trainging_history in ipython store\n",
    "#%store training_history\n",
    "#%store"
   ]
  },
  {
   "cell_type": "markdown",
   "id": "ab1e580f-1f65-44bc-ab5a-ad43e679edaf",
   "metadata": {},
   "source": [
    "## Model Evaluation"
   ]
  },
  {
   "cell_type": "code",
   "execution_count": 24,
   "id": "2f30165d-b10f-45de-bf59-3c268a991189",
   "metadata": {},
   "outputs": [
    {
     "name": "stdout",
     "output_type": "stream",
     "text": [
      "2197/2197 [==============================] - 519s 236ms/step - loss: 0.0202 - accuracy: 0.9937\n"
     ]
    }
   ],
   "source": [
    "# Model Evaludation on traning set\n",
    "train_loss, train_acc = model.evaluate(training_set)"
   ]
  },
  {
   "cell_type": "code",
   "execution_count": 25,
   "id": "7fa9e8c1-3be2-46e0-95ad-488b133abdfb",
   "metadata": {},
   "outputs": [
    {
     "name": "stdout",
     "output_type": "stream",
     "text": [
      "0.020162394270300865 0.993698000907898\n"
     ]
    }
   ],
   "source": [
    "print(train_loss, train_acc)"
   ]
  },
  {
   "cell_type": "code",
   "execution_count": 26,
   "id": "c002458f-6994-4c75-ac27-57f8559118dd",
   "metadata": {},
   "outputs": [
    {
     "name": "stdout",
     "output_type": "stream",
     "text": [
      "550/550 [==============================] - 133s 242ms/step - loss: 0.1070 - accuracy: 0.9682\n"
     ]
    }
   ],
   "source": [
    "# Model Evaluation on validation set\n",
    "val_loss, val_acc = model.evaluate(validation_set)"
   ]
  },
  {
   "cell_type": "code",
   "execution_count": 27,
   "id": "3b6b4845-bedd-4273-9516-fd81bf6047c9",
   "metadata": {},
   "outputs": [
    {
     "name": "stdout",
     "output_type": "stream",
     "text": [
      "0.10699165612459183 0.9682449102401733\n"
     ]
    }
   ],
   "source": [
    "print(val_loss, val_acc)"
   ]
  },
  {
   "cell_type": "markdown",
   "id": "ac3c900d-0421-4f8d-91a0-42b7a38be5de",
   "metadata": {},
   "source": [
    "## Saving Model"
   ]
  },
  {
   "cell_type": "code",
   "execution_count": 30,
   "id": "671a09bd-dd6f-4c84-9234-50209597ac68",
   "metadata": {},
   "outputs": [],
   "source": [
    "model.save(\"trained_model.keras\")"
   ]
  },
  {
   "cell_type": "code",
   "execution_count": 31,
   "id": "914886d4-db08-494d-9fcf-9fbbb8195b47",
   "metadata": {},
   "outputs": [
    {
     "data": {
      "text/plain": [
       "{'loss': [1.378056287765503,\n",
       "  0.45971667766571045,\n",
       "  0.2757202982902527,\n",
       "  0.19135701656341553,\n",
       "  0.13666775822639465,\n",
       "  0.10638018697500229,\n",
       "  0.09434140473604202,\n",
       "  0.07309447973966599,\n",
       "  0.06342809647321701,\n",
       "  0.057877566665410995],\n",
       " 'accuracy': [0.5953766107559204,\n",
       "  0.8553666472434998,\n",
       "  0.9117575883865356,\n",
       "  0.9374350905418396,\n",
       "  0.954904317855835,\n",
       "  0.9654029607772827,\n",
       "  0.9690447449684143,\n",
       "  0.9761860966682434,\n",
       "  0.9797425270080566,\n",
       "  0.9812504649162292],\n",
       " 'val_loss': [0.4969624876976013,\n",
       "  0.350989431142807,\n",
       "  0.21327729523181915,\n",
       "  0.17257751524448395,\n",
       "  0.1466531753540039,\n",
       "  0.17239238321781158,\n",
       "  0.13537299633026123,\n",
       "  0.12431935966014862,\n",
       "  0.15972383320331573,\n",
       "  0.10699170082807541],\n",
       " 'val_accuracy': [0.8421921133995056,\n",
       "  0.886637806892395,\n",
       "  0.9309127926826477,\n",
       "  0.9451969265937805,\n",
       "  0.9520259499549866,\n",
       "  0.9440017938613892,\n",
       "  0.9583997130393982,\n",
       "  0.9637491703033447,\n",
       "  0.9544730186462402,\n",
       "  0.9682449102401733]}"
      ]
     },
     "execution_count": 31,
     "metadata": {},
     "output_type": "execute_result"
    }
   ],
   "source": [
    "training_history.history"
   ]
  },
  {
   "cell_type": "code",
   "execution_count": 32,
   "id": "1ff35263-7c5f-403c-b6fa-f65f1c433af3",
   "metadata": {},
   "outputs": [],
   "source": [
    "# Recording History in JSON\n",
    "import json\n",
    "with open(\"training_hist.json\", \"w\") as f:\n",
    "    json.dump(training_history.history,f)"
   ]
  },
  {
   "cell_type": "markdown",
   "id": "bdfdadfc-0214-4db4-b0dd-d440fa4ff190",
   "metadata": {},
   "source": [
    "## Accuracy Visualization"
   ]
  },
  {
   "cell_type": "code",
   "execution_count": null,
   "id": "0e334267-6e13-4387-8b32-87082ca1978d",
   "metadata": {},
   "outputs": [],
   "source": [
    "epochs = [i for i in range(1,11)]\n",
    "plt.plot(epochs, training_history.history['accuracy'],color='red',label='Training Accuracy')\n",
    "plt.plot(epochs, training_history.history['val_accuracy'],color='blue',label='Validation Accuracy')\n",
    "plt.xlabel(\"No of Epochs\")\n",
    "plt.ylabel(\"Accuracy Result\")\n",
    "plt.title(\"Visualization of Accuracy Result\")\n",
    "plt.legend()\n",
    "plt.show()"
   ]
  },
  {
   "cell_type": "code",
   "execution_count": null,
   "id": "8ff5abf6-c284-4352-86e7-0f0f5da7c9a0",
   "metadata": {},
   "outputs": [],
   "source": [
    "class_name = validation_set.class_names\n",
    "class_name"
   ]
  },
  {
   "cell_type": "code",
   "execution_count": null,
   "id": "3771b0f2-f738-4304-a8c9-eb230ffcf092",
   "metadata": {},
   "outputs": [],
   "source": [
    "test_set = tf.keras.utils.image_dataset_from_directory(\n",
    "    \"valid\",\n",
    "    labels=\"inferred\",\n",
    "    label_mode=\"categorical\",\n",
    "    class_names=None,\n",
    "    color_mode=\"rgb\",\n",
    "    batch_size=32,\n",
    "    image_size=(128, 128),\n",
    "    shuffle=False,\n",
    "    seed=None,\n",
    "    validation_split=None,\n",
    "    subset=None,\n",
    "    interpolation=\"bilinear\",\n",
    "    follow_links=False,\n",
    "    crop_to_aspect_ratio=False,\n",
    ")"
   ]
  },
  {
   "cell_type": "code",
   "execution_count": null,
   "id": "2ea4ed50-67ab-46bd-b191-e6a8f1b2aec4",
   "metadata": {},
   "outputs": [],
   "source": [
    "y_pred = model.predict(test_set)"
   ]
  },
  {
   "cell_type": "code",
   "execution_count": null,
   "id": "d85c08f7-9699-423a-8939-3c2119c8ccc5",
   "metadata": {},
   "outputs": [],
   "source": [
    "predicted_categories = tf.argmax(y_pred,axis=1)"
   ]
  },
  {
   "cell_type": "code",
   "execution_count": null,
   "id": "63b6a286-e6ef-4851-9b69-3f73b417f3ee",
   "metadata": {},
   "outputs": [],
   "source": [
    "true_categories = tf.concat([y for x, y in test_set],axis=0)"
   ]
  },
  {
   "cell_type": "code",
   "execution_count": null,
   "id": "1a6a3f8a-758d-4454-afec-47799b14e0e9",
   "metadata": {},
   "outputs": [],
   "source": [
    "Y_true = tf.argmax(true_categories,axis=1)"
   ]
  },
  {
   "cell_type": "code",
   "execution_count": null,
   "id": "c412d245-7034-4996-bb33-291cf2a353e4",
   "metadata": {},
   "outputs": [],
   "source": [
    "from sklearn.metrics import classification_report,confusion_matrix"
   ]
  },
  {
   "cell_type": "code",
   "execution_count": null,
   "id": "5410f6e0-760c-421b-9412-5c62f605bd44",
   "metadata": {},
   "outputs": [],
   "source": [
    "print(classification_report(Y_true, predicted_categories, target_names=class_name))"
   ]
  },
  {
   "cell_type": "code",
   "execution_count": null,
   "id": "cfcc058b-6590-422e-ad03-5e12425e8076",
   "metadata": {},
   "outputs": [],
   "source": [
    "cm = confusion_matrix(Y_true, predicted_categories)"
   ]
  },
  {
   "cell_type": "markdown",
   "id": "f155c547-0d1a-40e9-b9ab-5773025c98a7",
   "metadata": {},
   "source": [
    "## Confusion Matrix visualization"
   ]
  },
  {
   "cell_type": "code",
   "execution_count": null,
   "id": "a94a07b7-5aed-40bd-a3e4-53f4ea7421fb",
   "metadata": {},
   "outputs": [],
   "source": [
    "plt.figure(figsize=(40,40))\n",
    "sns.heatmap(cm,annot=True,annot_kws={'size':10})\n",
    "plt.xlabel(\"Predicted Class\",fontsize=20)\n",
    "plt.ylabel(\"Actual Class\",fontsize=20)\n",
    "plt.title(\"Plant Disease Prediction Confusion Matrix\",fontsize=25)\n",
    "plt.show()"
   ]
  }
 ],
 "metadata": {
  "kernelspec": {
   "display_name": "Python 3 (ipykernel)",
   "language": "python",
   "name": "python3"
  },
  "language_info": {
   "codemirror_mode": {
    "name": "ipython",
    "version": 3
   },
   "file_extension": ".py",
   "mimetype": "text/x-python",
   "name": "python",
   "nbconvert_exporter": "python",
   "pygments_lexer": "ipython3",
   "version": "3.10.13"
  }
 },
 "nbformat": 4,
 "nbformat_minor": 5
}
